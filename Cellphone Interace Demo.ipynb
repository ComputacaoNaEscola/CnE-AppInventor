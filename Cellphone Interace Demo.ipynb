{
 "cells": [
  {
   "cell_type": "code",
   "execution_count": 1,
   "metadata": {},
   "outputs": [],
   "source": [
    "%reload_ext autoreload\n",
    "%autoreload 2\n",
    "%matplotlib inline"
   ]
  },
  {
   "cell_type": "markdown",
   "metadata": {},
   "source": [
    "\n",
    "# Build Cellphone Interace Demo\n",
    "\n",
    "\n",
    "\n"
   ]
  },
  {
   "cell_type": "code",
   "execution_count": 250,
   "metadata": {},
   "outputs": [],
   "source": [
    "matiz = [\n",
    "    '#F44336',\n",
    "    '#E91E63',\n",
    "    '#9C27B0',\n",
    "    '#673AB7',\n",
    "    '#3F51B5',\n",
    "    '#009688',\n",
    "    '#795548',\n",
    "    '#607D8B',\n",
    "    '#2196F3',\n",
    "    '#03A9F4',\n",
    "    '#00BCD4',\n",
    "    '#4CAF50',\n",
    "    '#8BC34A',\n",
    "    '#CDDC39',\n",
    "    '#FFEB3B',\n",
    "    '#FFC107',\n",
    "    '#FF9800',\n",
    "    '#FF5722',\n",
    "    '#9E9E9E'\n",
    "]\n",
    "\n",
    "variacao = [\n",
    "    '#EF9A9A',\n",
    "    '#F48FB1',\n",
    "    '#CE93D8',\n",
    "    '#B39DDB',\n",
    "    '#9FA8DA',\n",
    "    '#80CBC4',\n",
    "    '#BCAAA4',\n",
    "    '#B0BEC5',\n",
    "    '#90CAF9',\n",
    "    '#81D4FA',\n",
    "    '#80DEEA',\n",
    "    '#A5D6A7',\n",
    "    '#C5E1A5',\n",
    "    '#E6EE9C',\n",
    "    '#FFF59D',\n",
    "    '#FFE082',\n",
    "    '#FFCC80',\n",
    "    '#FFAB91',\n",
    "    '#EEEEEE'\n",
    "]\n"
   ]
  },
  {
   "cell_type": "code",
   "execution_count": 148,
   "metadata": {},
   "outputs": [
    {
     "data": {
      "text/plain": [
       "<matplotlib.font_manager.FontProperties at 0x7f3ea755f5c0>"
      ]
     },
     "execution_count": 148,
     "metadata": {},
     "output_type": "execute_result"
    }
   ],
   "source": [
    "import os\n",
    "import matplotlib.font_manager as fm\n",
    "fm.findSystemFonts(fontpaths=None, fontext='ttf')\n",
    "\n",
    "#fpath = os.path.join(rcParams[\"datapath\"], 'Roboto-Regular.ttf')\n",
    "prop = fm.FontProperties(fname='Roboto-Regular.ttf')\n",
    "prop"
   ]
  },
  {
   "cell_type": "markdown",
   "metadata": {},
   "source": [
    "### Define an interface generating function"
   ]
  },
  {
   "cell_type": "code",
   "execution_count": 255,
   "metadata": {},
   "outputs": [],
   "source": [
    "def generateInterfaceFor(pair=('#ff9800','#009688')):\n",
    "    # Textbox for the upper menu and text\n",
    "    if pair[0] in ('#F44336', '#E91E63', '#9C27B0','#673AB7', '#3F51B5', '#009688', '#795548', '#607D8B'):\n",
    "        # White text\n",
    "        fontColor = 'white'\n",
    "    else:\n",
    "        # Black text\n",
    "        fontColor = 'black'\n",
    "    if pair[1] in ('#F44336', '#E91E63', '#9C27B0','#673AB7', '#3F51B5', '#009688', '#795548', '#607D8B'):\n",
    "        # White text\n",
    "        alt_fontColor = 'white'\n",
    "    else:\n",
    "        # Black text\n",
    "        alt_fontColor = 'black'\n",
    "    ecfc = pair[0]\n",
    "    comp_ecfc = pair[1]\n",
    "    #a = plt.text(0.0285, 0.96, \"\\u9776 Theme Preview          \", size=40, rotation=0.,\n",
    "    menu = plt.text(0.0285, 0.96, \"\\u2630      \", size=40, rotation=0., color=fontColor,\n",
    "             ha=\"left\", va=\"center\", fontsize=40,\n",
    "             # bbox=dict(boxstyle=\"round\",\n",
    "             bbox=dict(boxstyle=\"square\",\n",
    "                       #ec=(1., 0.5, 0.5),\n",
    "                       ec=ecfc,  # External color\n",
    "                       fc=ecfc,  # Fill color\n",
    "                       #facecolor='red', \n",
    "                       alpha=1.\n",
    "                      )\n",
    "             )\n",
    "    a = plt.text(0.21, 0.96, \"Theme Preview                       \", size=30, rotation=0., color=fontColor,\n",
    "             ha=\"left\", va=\"center\", fontproperties=prop, fontsize=30,\n",
    "             # bbox=dict(boxstyle=\"round\",\n",
    "             bbox=dict(boxstyle=\"square\",\n",
    "                       #ec=(1., 0.5, 0.5),\n",
    "                       ec=ecfc,  # External color\n",
    "                       fc=ecfc,  # Fill color\n",
    "                       #facecolor='red', \n",
    "                       alpha=1.,\n",
    "                       pad=0.6\n",
    "                      )\n",
    "             )\n",
    "    b = plt.text(0.06, 0.76, \"Try it out\", size=57, rotation=0., color='black',\n",
    "             ha=\"left\", va=\"center\", fontproperties=prop,  fontsize=47,\n",
    "             # bbox=dict(boxstyle=\"round\",\n",
    "             bbox=dict(boxstyle=\"square\",\n",
    "                       #ec=(1., 0.5, 0.5),\n",
    "                       ec=ecfc,  # External color\n",
    "                       fc=ecfc,  # Fill color\n",
    "                       alpha=0.0\n",
    "                      )\n",
    "             )\n",
    "    c = plt.text(0.06, 0.7, \"Lorem ipsum dolor sit amet\", size=17, rotation=0., color='black',\n",
    "             ha=\"left\", va=\"center\", fontproperties=prop,  fontsize=17,\n",
    "             # bbox=dict(boxstyle=\"round\",\n",
    "             bbox=dict(boxstyle=\"square\",\n",
    "                       #ec=(1., 0.5, 0.5),\n",
    "                       ec=ecfc,  # External color\n",
    "                       fc=ecfc,  # Fill color\n",
    "                       alpha=0.0\n",
    "                      )\n",
    "             )\n",
    "\n",
    "    d = plt.text(0.09, 0.6, \" BUTTON \", size=22, rotation=0., color=fontColor,\n",
    "             ha=\"left\", va=\"center\", fontproperties=prop,  fontsize=22, \n",
    "             # bbox=dict(boxstyle=\"round\",\n",
    "             bbox=dict(boxstyle=\"square\",\n",
    "                       #ec=(1., 0.5, 0.5),\n",
    "                       ec=ecfc,  # External color\n",
    "                       fc=ecfc,  # Fill color\n",
    "                       #facecolor='red', \n",
    "                       alpha=1.,\n",
    "                       pad=0.7\n",
    "                      )\n",
    "             )\n",
    "\n",
    "    e = plt.text(0.8, 0.4, \"+\", size=40, rotation=0.,\n",
    "             ha=\"left\", fontproperties=prop, fontsize=40, color=alt_fontColor,\n",
    "             # bbox=dict(boxstyle=\"round\",\n",
    "             bbox=dict(boxstyle=\"circle\",\n",
    "                       #ec=(1., 0.5, 0.5),\n",
    "                       ec=comp_ecfc,  # External color\n",
    "                       fc=comp_ecfc,  # Fill color\n",
    "                       #facecolor='red', \n",
    "                       alpha=1.\n",
    "                      )\n",
    "             )\n",
    "\n",
    "    menu.axes.get_xaxis().set_visible(False)\n",
    "    menu.axes.get_yaxis().set_visible(False)\n",
    "    a.axes.get_xaxis().set_visible(False)\n",
    "    a.axes.get_yaxis().set_visible(False)\n",
    "    b.axes.get_xaxis().set_visible(False)\n",
    "    b.axes.get_yaxis().set_visible(False)\n",
    "    c.axes.get_xaxis().set_visible(False)\n",
    "    c.axes.get_yaxis().set_visible(False)\n",
    "    d.axes.get_xaxis().set_visible(False)\n",
    "    d.axes.get_yaxis().set_visible(False)\n",
    "    e.axes.get_xaxis().set_visible(False)\n",
    "    e.axes.get_yaxis().set_visible(False)\n",
    "    saveInterface(pair)\n",
    "    plt.show()\n"
   ]
  },
  {
   "cell_type": "markdown",
   "metadata": {},
   "source": [
    "### Define a image writing routine"
   ]
  },
  {
   "cell_type": "code",
   "execution_count": 242,
   "metadata": {},
   "outputs": [],
   "source": [
    "def saveInterface(pair):\n",
    "    filename = 'images/'+pair[0][1:]+'-'+pair[1][1:]+'.png'\n",
    "    plt.savefig(filename)"
   ]
  },
  {
   "cell_type": "markdown",
   "metadata": {},
   "source": [
    "### Define two iterators for the colors and an interactive main function"
   ]
  },
  {
   "cell_type": "code",
   "execution_count": 256,
   "metadata": {},
   "outputs": [
    {
     "data": {
      "application/vnd.jupyter.widget-view+json": {
       "model_id": "22af9cf764b347b194d3e9ab143acd67",
       "version_major": 2,
       "version_minor": 0
      },
      "text/plain": [
       "interactive(children=(Button(description='Run Interact', style=ButtonStyle()), Output()), _dom_classes=('widge…"
      ]
     },
     "metadata": {},
     "output_type": "display_data"
    },
    {
     "data": {
      "text/plain": [
       "<function __main__.iterateOverColors()>"
      ]
     },
     "execution_count": 256,
     "metadata": {},
     "output_type": "execute_result"
    }
   ],
   "source": [
    "from IPython.display import clear_output\n",
    "from ipywidgets import interact, interact_manual\n",
    "import matplotlib\n",
    "import itertools\n",
    "import time\n",
    "import matplotlib.pyplot as plt\n",
    "from matplotlib import collections, colors, transforms\n",
    "import numpy as np\n",
    "\n",
    "matplotlib.rcParams['figure.figsize'] = [9,16]\n",
    "\n",
    "# Create an iterator over al permutations of colors...\n",
    "color_permutation = itertools.permutations(matiz, 2)\n",
    "# Create another iterator over all dark/light pairs of colors\n",
    "dark_light_combination = zip(matiz, variacao)\n",
    "\n",
    "def iterateOverColors():\n",
    "    try:\n",
    "        pair = next(color_permutation)\n",
    "        generateInterfaceFor(pair)\n",
    "    except StopIteration:\n",
    "        try:\n",
    "            pair = next(dark_light_combination)\n",
    "            generateInterfaceFor(pair)\n",
    "        except StopIteration:\n",
    "            print('Finished permutations!')\n",
    "\n",
    "interact_manual(iterateOverColors)"
   ]
  },
  {
   "cell_type": "code",
   "execution_count": null,
   "metadata": {},
   "outputs": [],
   "source": [
    " "
   ]
  },
  {
   "cell_type": "code",
   "execution_count": null,
   "metadata": {},
   "outputs": [],
   "source": []
  }
 ],
 "metadata": {
  "kernelspec": {
   "display_name": "Python 3",
   "language": "python",
   "name": "python3"
  },
  "language_info": {
   "codemirror_mode": {
    "name": "ipython",
    "version": 3
   },
   "file_extension": ".py",
   "mimetype": "text/x-python",
   "name": "python",
   "nbconvert_exporter": "python",
   "pygments_lexer": "ipython3",
   "version": "3.7.1"
  },
  "varInspector": {
   "cols": {
    "lenName": "20",
    "lenType": "20",
    "lenVar": "60"
   },
   "kernels_config": {
    "python": {
     "delete_cmd_postfix": "",
     "delete_cmd_prefix": "del ",
     "library": "var_list.py",
     "varRefreshCmd": "print(var_dic_list())"
    },
    "r": {
     "delete_cmd_postfix": ") ",
     "delete_cmd_prefix": "rm(",
     "library": "var_list.r",
     "varRefreshCmd": "cat(var_dic_list()) "
    }
   },
   "types_to_exclude": [
    "module",
    "function",
    "builtin_function_or_method",
    "instance",
    "_Feature"
   ],
   "window_display": false
  }
 },
 "nbformat": 4,
 "nbformat_minor": 1
}
