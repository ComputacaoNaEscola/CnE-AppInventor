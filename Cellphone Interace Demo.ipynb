{
 "cells": [
  {
   "cell_type": "code",
   "execution_count": 1,
   "metadata": {},
   "outputs": [],
   "source": [
    "%reload_ext autoreload\n",
    "%autoreload 2\n",
    "%matplotlib inline"
   ]
  },
  {
   "cell_type": "markdown",
   "metadata": {},
   "source": [
    "\n",
    "# Build Cellphone Interace Demo\n",
    "\n",
    "\n",
    "\n"
   ]
  },
  {
   "cell_type": "code",
   "execution_count": 244,
   "metadata": {},
   "outputs": [],
   "source": [
    "matiz = [\n",
    "    '#795548',  # Dark brown\n",
    "    '#b39ddb',\n",
    "    '#673ab7',\n",
    "    '#3f51b5',\n",
    "    '#f44336',\n",
    "    '#9c27b0',\n",
    "    '#2196f3',\n",
    "    '#03a9f4',\n",
    "    '#00bcd4',\n",
    "    '#009688',\n",
    "    '#4caf50',\n",
    "    '#8bc34a',\n",
    "    '#cddc39',\n",
    "    '#ffeb3b',\n",
    "    '#ffc107',\n",
    "    '#ff9800',\n",
    "    '#ff5722',\n",
    "    '#9e9e9e',\n",
    "    '#607d8b'\n",
    "]\n",
    "\n",
    "variacao = [\n",
    "    '#bcaaa4',\n",
    "    '#ce93d8',\n",
    "    '#b39ddb',\n",
    "    '#9fa8da',\n",
    "    '#ef9a9a',\n",
    "    '#f48fb1',\n",
    "    '#90caf9',\n",
    "    '#81d4fa',\n",
    "    '#80deea',\n",
    "    '#80cbc4',\n",
    "    '#a5d6a7',\n",
    "    '#c5e1a5',\n",
    "    '#e6ee9c',\n",
    "    '#fff59d',\n",
    "    '#ffe082',\n",
    "    '#ffcc80',\n",
    "    '#ffab91',\n",
    "    '#eeeeee',\n",
    "    '#b0bec5'\n",
    "]\n"
   ]
  },
  {
   "cell_type": "code",
   "execution_count": 148,
   "metadata": {},
   "outputs": [
    {
     "data": {
      "text/plain": [
       "<matplotlib.font_manager.FontProperties at 0x7f3ea755f5c0>"
      ]
     },
     "execution_count": 148,
     "metadata": {},
     "output_type": "execute_result"
    }
   ],
   "source": [
    "import os\n",
    "import matplotlib.font_manager as fm\n",
    "fm.findSystemFonts(fontpaths=None, fontext='ttf')\n",
    "\n",
    "#fpath = os.path.join(rcParams[\"datapath\"], 'Roboto-Regular.ttf')\n",
    "prop = fm.FontProperties(fname='Roboto-Regular.ttf')\n",
    "prop"
   ]
  },
  {
   "cell_type": "markdown",
   "metadata": {},
   "source": [
    "### Define an interface generating function"
   ]
  },
  {
   "cell_type": "code",
   "execution_count": 247,
   "metadata": {},
   "outputs": [],
   "source": [
    "def generateInterfaceFor(pair=('#ff9800','#009688')):\n",
    "    # Textbox for the upper menu and text\n",
    "    if pair[0] in ('#795548', '#b39ddb', '#673ab7', '#3f51b5'):\n",
    "        # White text\n",
    "        fontColor = 'white'\n",
    "    else:\n",
    "        # Black text\n",
    "        fontColor = 'black'\n",
    "    if pair[1] in ('#795548', '#b39ddb', '#673ab7', '#3f51b5'):\n",
    "        # White text\n",
    "        alt_fontColor = 'white'\n",
    "    else:\n",
    "        # Black text\n",
    "        alt_fontColor = 'black'\n",
    "    ecfc = pair[0]\n",
    "    comp_ecfc = pair[1]\n",
    "    #a = plt.text(0.0285, 0.96, \"\\u9776 Theme Preview          \", size=40, rotation=0.,\n",
    "    menu = plt.text(0.0285, 0.96, \"\\u2630      \", size=40, rotation=0., color=fontColor,\n",
    "             ha=\"left\", va=\"center\", fontsize=40,\n",
    "             # bbox=dict(boxstyle=\"round\",\n",
    "             bbox=dict(boxstyle=\"square\",\n",
    "                       #ec=(1., 0.5, 0.5),\n",
    "                       ec=ecfc,  # External color\n",
    "                       fc=ecfc,  # Fill color\n",
    "                       #facecolor='red', \n",
    "                       alpha=1.\n",
    "                      )\n",
    "             )\n",
    "    a = plt.text(0.21, 0.96, \"Theme Preview                       \", size=30, rotation=0., color=fontColor,\n",
    "             ha=\"left\", va=\"center\", fontproperties=prop, fontsize=30,\n",
    "             # bbox=dict(boxstyle=\"round\",\n",
    "             bbox=dict(boxstyle=\"square\",\n",
    "                       #ec=(1., 0.5, 0.5),\n",
    "                       ec=ecfc,  # External color\n",
    "                       fc=ecfc,  # Fill color\n",
    "                       #facecolor='red', \n",
    "                       alpha=1.,\n",
    "                       pad=0.6\n",
    "                      )\n",
    "             )\n",
    "    b = plt.text(0.06, 0.76, \"Try it out\", size=57, rotation=0., color='black',\n",
    "             ha=\"left\", va=\"center\", fontproperties=prop,  fontsize=47,\n",
    "             # bbox=dict(boxstyle=\"round\",\n",
    "             bbox=dict(boxstyle=\"square\",\n",
    "                       #ec=(1., 0.5, 0.5),\n",
    "                       ec=ecfc,  # External color\n",
    "                       fc=ecfc,  # Fill color\n",
    "                       alpha=0.0\n",
    "                      )\n",
    "             )\n",
    "    c = plt.text(0.06, 0.7, \"Lorem ipsum dolor sit amet\", size=17, rotation=0., color='black',\n",
    "             ha=\"left\", va=\"center\", fontproperties=prop,  fontsize=17,\n",
    "             # bbox=dict(boxstyle=\"round\",\n",
    "             bbox=dict(boxstyle=\"square\",\n",
    "                       #ec=(1., 0.5, 0.5),\n",
    "                       ec=ecfc,  # External color\n",
    "                       fc=ecfc,  # Fill color\n",
    "                       alpha=0.0\n",
    "                      )\n",
    "             )\n",
    "\n",
    "    d = plt.text(0.09, 0.6, \" BUTTON \", size=22, rotation=0., color=fontColor,\n",
    "             ha=\"left\", va=\"center\", fontproperties=prop,  fontsize=22, \n",
    "             # bbox=dict(boxstyle=\"round\",\n",
    "             bbox=dict(boxstyle=\"square\",\n",
    "                       #ec=(1., 0.5, 0.5),\n",
    "                       ec=ecfc,  # External color\n",
    "                       fc=ecfc,  # Fill color\n",
    "                       #facecolor='red', \n",
    "                       alpha=1.,S\n",
    "                       pad=0.7\n",
    "                      )\n",
    "             )\n",
    "\n",
    "    e = plt.text(0.8, 0.4, \"+\", size=40, rotation=0.,\n",
    "             ha=\"left\", fontproperties=prop, fontsize=40, color=alt_fontColor,\n",
    "             # bbox=dict(boxstyle=\"round\",\n",
    "             bbox=dict(boxstyle=\"circle\",\n",
    "                       #ec=(1., 0.5, 0.5),\n",
    "                       ec=comp_ecfc,  # External color\n",
    "                       fc=comp_ecfc,  # Fill color\n",
    "                       #facecolor='red', \n",
    "                       alpha=1.\n",
    "                      )\n",
    "             )\n",
    "\n",
    "    menu.axes.get_xaxis().set_visible(False)\n",
    "    menu.axes.get_yaxis().set_visible(False)\n",
    "    a.axes.get_xaxis().set_visible(False)\n",
    "    a.axes.get_yaxis().set_visible(False)\n",
    "    b.axes.get_xaxis().set_visible(False)\n",
    "    b.axes.get_yaxis().set_visible(False)\n",
    "    c.axes.get_xaxis().set_visible(False)\n",
    "    c.axes.get_yaxis().set_visible(False)\n",
    "    d.axes.get_xaxis().set_visible(False)\n",
    "    d.axes.get_yaxis().set_visible(False)\n",
    "    e.axes.get_xaxis().set_visible(False)\n",
    "    e.axes.get_yaxis().set_visible(False)\n",
    "    saveInterface(pair)\n",
    "    plt.show()\n"
   ]
  },
  {
   "cell_type": "markdown",
   "metadata": {},
   "source": [
    "### Define a image writing routine"
   ]
  },
  {
   "cell_type": "code",
   "execution_count": 242,
   "metadata": {},
   "outputs": [],
   "source": [
    "def saveInterface(pair):\n",
    "    filename = 'images/'+pair[0][1:]+'-'+pair[1][1:]+'.png'\n",
    "    plt.savefig(filename)"
   ]
  },
  {
   "cell_type": "markdown",
   "metadata": {},
   "source": [
    "### Define two iterators for the colors and an interactive main function"
   ]
  },
  {
   "cell_type": "code",
   "execution_count": 248,
   "metadata": {},
   "outputs": [
    {
     "data": {
      "application/vnd.jupyter.widget-view+json": {
       "model_id": "ae0bc97841814049b11945a5e543b2e8",
       "version_major": 2,
       "version_minor": 0
      },
      "text/plain": [
       "interactive(children=(Button(description='Run Interact', style=ButtonStyle()), Output()), _dom_classes=('widge…"
      ]
     },
     "metadata": {},
     "output_type": "display_data"
    },
    {
     "data": {
      "text/plain": [
       "<function __main__.iterateOverColors()>"
      ]
     },
     "execution_count": 248,
     "metadata": {},
     "output_type": "execute_result"
    }
   ],
   "source": [
    "from IPython.display import clear_output\n",
    "from ipywidgets import interact, interact_manual\n",
    "import matplotlib\n",
    "import itertools\n",
    "import time\n",
    "import matplotlib.pyplot as plt\n",
    "from matplotlib import collections, colors, transforms\n",
    "import numpy as np\n",
    "\n",
    "matplotlib.rcParams['figure.figsize'] = [9,16]\n",
    "\n",
    "# Create an iterator over al permutations of colors...\n",
    "color_permutation = itertools.permutations(matiz, 2)\n",
    "# Create another iterator over all dark/light pairs of colors\n",
    "dark_light_combination = zip(matiz, variacao)\n",
    "\n",
    "def iterateOverColors():\n",
    "    try:\n",
    "        pair = next(color_permutation)\n",
    "        generateInterfaceFor(pair)\n",
    "    except StopIteration:\n",
    "        try:\n",
    "            pair = next(dark_light_combination)\n",
    "            generateInterfaceFor(pair)\n",
    "        except StopIteration:\n",
    "            print('Finished permutations!')\n",
    "\n",
    "interact_manual(iterateOverColors)"
   ]
  },
  {
   "cell_type": "code",
   "execution_count": null,
   "metadata": {},
   "outputs": [],
   "source": [
    " "
   ]
  },
  {
   "cell_type": "code",
   "execution_count": null,
   "metadata": {},
   "outputs": [],
   "source": []
  }
 ],
 "metadata": {
  "kernelspec": {
   "display_name": "Python 3",
   "language": "python",
   "name": "python3"
  },
  "language_info": {
   "codemirror_mode": {
    "name": "ipython",
    "version": 3
   },
   "file_extension": ".py",
   "mimetype": "text/x-python",
   "name": "python",
   "nbconvert_exporter": "python",
   "pygments_lexer": "ipython3",
   "version": "3.7.1"
  },
  "varInspector": {
   "cols": {
    "lenName": "20",
    "lenType": "20",
    "lenVar": "60"
   },
   "kernels_config": {
    "python": {
     "delete_cmd_postfix": "",
     "delete_cmd_prefix": "del ",
     "library": "var_list.py",
     "varRefreshCmd": "print(var_dic_list())"
    },
    "r": {
     "delete_cmd_postfix": ") ",
     "delete_cmd_prefix": "rm(",
     "library": "var_list.r",
     "varRefreshCmd": "cat(var_dic_list()) "
    }
   },
   "types_to_exclude": [
    "module",
    "function",
    "builtin_function_or_method",
    "instance",
    "_Feature"
   ],
   "window_display": false
  }
 },
 "nbformat": 4,
 "nbformat_minor": 1
}
