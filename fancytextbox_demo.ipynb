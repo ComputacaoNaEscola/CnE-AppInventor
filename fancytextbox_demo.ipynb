{
 "cells": [
  {
   "cell_type": "code",
   "execution_count": 1,
   "metadata": {},
   "outputs": [],
   "source": [
    "%reload_ext autoreload\n",
    "%autoreload 2\n",
    "%matplotlib inline"
   ]
  },
  {
   "cell_type": "markdown",
   "metadata": {},
   "source": [
    "\n",
    "# Build Cellphone Interace Demo\n",
    "\n",
    "\n",
    "\n"
   ]
  },
  {
   "cell_type": "markdown",
   "metadata": {},
   "source": []
  },
  {
   "cell_type": "code",
   "execution_count": 148,
   "metadata": {},
   "outputs": [
    {
     "data": {
      "text/plain": [
       "<matplotlib.font_manager.FontProperties at 0x7f3ea755f5c0>"
      ]
     },
     "execution_count": 148,
     "metadata": {},
     "output_type": "execute_result"
    }
   ],
   "source": [
    "import os\n",
    "import matplotlib.font_manager as fm\n",
    "fm.findSystemFonts(fontpaths=None, fontext='ttf')\n",
    "\n",
    "#fpath = os.path.join(rcParams[\"datapath\"], 'Roboto-Regular.ttf')\n",
    "prop = fm.FontProperties(fname='Roboto-Regular.ttf')\n",
    "prop"
   ]
  },
  {
   "cell_type": "code",
   "execution_count": 193,
   "metadata": {},
   "outputs": [
    {
     "data": {
      "image/png": "[encoded data removed]",
      "text/plain": [
       "<Figure size 648x1152 with 1 Axes>"
      ]
     },
     "metadata": {
      "needs_background": "light"
     },
     "output_type": "display_data"
    }
   ],
   "source": [
    "import matplotlib\n",
    "import matplotlib.pyplot as plt\n",
    "from matplotlib import collections, colors, transforms\n",
    "import numpy as np\n",
    "\n",
    "matplotlib.rcParams['figure.figsize'] = [9,16]\n",
    "\n",
    "ecfc=(1., 0.8, 0.8)\n",
    "comp_ecfc=(0.5, 0.2, 0.2)\n",
    "\n",
    "# Background color of the whole plot\n",
    "#fig, ax = plt.subplots(facecolor=(.0, .0, .0))\n",
    "\n",
    "# Textbox for the upper menu and text\n",
    "#a = plt.text(0.0285, 0.96, \"\\u9776 Theme Preview          \", size=40, rotation=0.,\n",
    "menu = plt.text(0.0285, 0.96, \"\\u2630      \", size=40, rotation=0.,\n",
    "         ha=\"left\", va=\"center\", fontsize=40,\n",
    "         # bbox=dict(boxstyle=\"round\",\n",
    "         bbox=dict(boxstyle=\"square\",\n",
    "                   #ec=(1., 0.5, 0.5),\n",
    "                   ec=ecfc,  # External color\n",
    "                   fc=ecfc,  # Fill color\n",
    "                   #facecolor='red', \n",
    "                   alpha=1.\n",
    "                  )\n",
    "         )\n",
    "a = plt.text(0.21, 0.96, \"Theme Preview                       \", size=30, rotation=0.,\n",
    "         ha=\"left\", va=\"center\", fontproperties=prop, fontsize=30,\n",
    "         # bbox=dict(boxstyle=\"round\",\n",
    "         bbox=dict(boxstyle=\"square\",\n",
    "                   #ec=(1., 0.5, 0.5),\n",
    "                   ec=ecfc,  # External color\n",
    "                   fc=ecfc,  # Fill color\n",
    "                   #facecolor='red', \n",
    "                   alpha=1.,\n",
    "                   pad=0.6\n",
    "                  )\n",
    "         )\n",
    "b = plt.text(0.06, 0.76, \"Try it out\", size=57, rotation=0.,\n",
    "         ha=\"left\", va=\"center\", fontproperties=prop,  fontsize=47,\n",
    "         # bbox=dict(boxstyle=\"round\",\n",
    "         bbox=dict(boxstyle=\"square\",\n",
    "                   #ec=(1., 0.5, 0.5),\n",
    "                   ec=ecfc,  # External color\n",
    "                   fc=ecfc,  # Fill color\n",
    "                   alpha=0.0\n",
    "                  )\n",
    "         )\n",
    "c = plt.text(0.06, 0.7, \"Lorem ipsum dolor sit amet\", size=17, rotation=0.,\n",
    "         ha=\"left\", va=\"center\", fontproperties=prop,  fontsize=17,\n",
    "         # bbox=dict(boxstyle=\"round\",\n",
    "         bbox=dict(boxstyle=\"square\",\n",
    "                   #ec=(1., 0.5, 0.5),\n",
    "                   ec=ecfc,  # External color\n",
    "                   fc=ecfc,  # Fill color\n",
    "                   alpha=0.0\n",
    "                  )\n",
    "         )\n",
    "\n",
    "d = plt.text(0.09, 0.6, \" BUTTON \", size=22, rotation=0.,\n",
    "         ha=\"left\", va=\"center\", fontproperties=prop,  fontsize=22,\n",
    "         # bbox=dict(boxstyle=\"round\",\n",
    "         bbox=dict(boxstyle=\"square\",\n",
    "                   #ec=(1., 0.5, 0.5),\n",
    "                   ec=ecfc,  # External color\n",
    "                   fc=ecfc,  # Fill color\n",
    "                   #facecolor='red', \n",
    "                   alpha=1.,\n",
    "                   pad=0.7\n",
    "                  )\n",
    "         )\n",
    "\n",
    "'''e = plt.text(0.8, 0.4, \"\\u2709\", size=40, rotation=0.,\n",
    "         ha=\"left\", fontname='DejaVuSansMono', fontsize=40,\n",
    "         # bbox=dict(boxstyle=\"round\",\n",
    "         bbox=dict(boxstyle=\"circle\",\n",
    "                   #ec=(1., 0.5, 0.5),\n",
    "                   ec=ecfc,  # External color\n",
    "                   fc=ecfc,  # Fill color\n",
    "                   #facecolor='red', \n",
    "                   alpha=0.9\n",
    "                  )\n",
    "         )'''\n",
    "\n",
    "e = plt.text(0.8, 0.4, \"+\", size=40, rotation=0.,\n",
    "         ha=\"left\", fontproperties=prop, fontsize=40, color='white',\n",
    "         # bbox=dict(boxstyle=\"round\",\n",
    "         bbox=dict(boxstyle=\"circle\",\n",
    "                   #ec=(1., 0.5, 0.5),\n",
    "                   ec=comp_ecfc,  # External color\n",
    "                   fc=comp_ecfc,  # Fill color\n",
    "                   #facecolor='red', \n",
    "                   alpha=1.\n",
    "                  )\n",
    "         )\n",
    "\n",
    "'''plt.text(0.0, 0.4, \"test\", size=50, rotation=-30.,\n",
    "         ha=\"right\", va=\"top\",\n",
    "         bbox=dict(boxstyle=\"square\",\n",
    "                   ec=(1., 0.5, 0.5),\n",
    "                   fc=(1., 0.8, 0.8),\n",
    "                   )\n",
    "         )'''\n",
    "\n",
    "menu.axes.get_xaxis().set_visible(False)\n",
    "menu.axes.get_yaxis().set_visible(False)\n",
    "a.axes.get_xaxis().set_visible(False)\n",
    "a.axes.get_yaxis().set_visible(False)\n",
    "b.axes.get_xaxis().set_visible(False)\n",
    "b.axes.get_yaxis().set_visible(False)\n",
    "c.axes.get_xaxis().set_visible(False)\n",
    "c.axes.get_yaxis().set_visible(False)\n",
    "d.axes.get_xaxis().set_visible(False)\n",
    "d.axes.get_yaxis().set_visible(False)\n",
    "e.axes.get_xaxis().set_visible(False)\n",
    "e.axes.get_yaxis().set_visible(False)\n",
    "plt.show()\n",
    "\n",
    "#a.axes.get_tightbbox(fig.canvas.get_renderer())\n"
   ]
  },
  {
   "cell_type": "code",
   "execution_count": null,
   "metadata": {},
   "outputs": [],
   "source": [
    " "
   ]
  },
  {
   "cell_type": "code",
   "execution_count": null,
   "metadata": {},
   "outputs": [],
   "source": []
  }
 ],
 "metadata": {
  "kernelspec": {
   "display_name": "Python 3",
   "language": "python",
   "name": "python3"
  },
  "language_info": {
   "codemirror_mode": {
    "name": "ipython",
    "version": 3
   },
   "file_extension": ".py",
   "mimetype": "text/x-python",
   "name": "python",
   "nbconvert_exporter": "python",
   "pygments_lexer": "ipython3",
   "version": "3.7.1"
  },
  "varInspector": {
   "cols": {
    "lenName": "20",
    "lenType": "20",
    "lenVar": "60"
   },
   "kernels_config": {
    "python": {
     "delete_cmd_postfix": "",
     "delete_cmd_prefix": "del ",
     "library": "var_list.py",
     "varRefreshCmd": "print(var_dic_list())"
    },
    "r": {
     "delete_cmd_postfix": ") ",
     "delete_cmd_prefix": "rm(",
     "library": "var_list.r",
     "varRefreshCmd": "cat(var_dic_list()) "
    }
   },
   "types_to_exclude": [
    "module",
    "function",
    "builtin_function_or_method",
    "instance",
    "_Feature"
   ],
   "window_display": false
  }
 },
 "nbformat": 4,
 "nbformat_minor": 1
}
